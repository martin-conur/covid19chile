{
 "cells": [
  {
   "cell_type": "code",
   "execution_count": 15,
   "metadata": {},
   "outputs": [],
   "source": [
    "import pandas as pd\n",
    "import json\n",
    "import numpy as np"
   ]
  },
  {
   "cell_type": "code",
   "execution_count": 3,
   "metadata": {},
   "outputs": [],
   "source": [
    "confirmados_df = pd.read_csv(\"https://raw.githubusercontent.com/MinCiencia/Datos-COVID19/master/output/producto1/Covid-19.csv\")\n",
    "pcr_df = pd.read_csv(\"https://raw.githubusercontent.com/MinCiencia/Datos-COVID19/master/output/producto7/PCR.csv\")\n",
    "uci_df = pd.read_csv(\"https://raw.githubusercontent.com/MinCiencia/Datos-COVID19/master/output/producto8/UCI.csv\")\n",
    "uci_et_df = pd.read_csv(\"https://raw.githubusercontent.com/MinCiencia/Datos-COVID19/master/output/producto9/HospitalizadosUCIEtario.csv\")\n",
    "fallecidos_et_df = pd.read_csv(\"https://raw.githubusercontent.com/MinCiencia/Datos-COVID19/master/output/producto10/FallecidosEtario.csv\")\n",
    "criticos_df=pd.read_csv(\"https://raw.githubusercontent.com/MinCiencia/Datos-COVID19/master/output/producto23/PacientesCriticos.csv\")\n",
    "sintomas_df = pd.read_csv(\"https://raw.githubusercontent.com/MinCiencia/Datos-COVID19/master/output/producto21/SintomasCasosConfirmados.csv\")\n",
    "ventiladores_df = pd.read_csv(\"https://raw.githubusercontent.com/MinCiencia/Datos-COVID19/master/output/producto20/NumeroVentiladores.csv\")\n",
    "activos_df = pd.read_csv(\"https://raw.githubusercontent.com/MinCiencia/Datos-COVID19/master/output/producto19/CasosActivosPorComuna.csv\")\n",
    "incidencia_df =pd.read_csv(\"https://raw.githubusercontent.com/MinCiencia/Datos-COVID19/master/output/producto18/TasaDeIncidencia.csv\")\n",
    "genero_etario_df = pd.read_csv(\"https://raw.githubusercontent.com/MinCiencia/Datos-COVID19/master/output/producto16/CasosGeneroEtario.csv\")\n",
    "fallecidos_ac_df = pd.read_csv(\"https://raw.githubusercontent.com/MinCiencia/Datos-COVID19/master/output/producto14/FallecidosCumulativo.csv\")\n"
   ]
  },
  {
   "cell_type": "code",
   "execution_count": 8,
   "metadata": {},
   "outputs": [
    {
     "data": {
      "text/plain": [
       "{15: 'Arica y Parinacota',\n",
       " 1: 'Tarapacá',\n",
       " 2: 'Antofagasta',\n",
       " 3: 'Atacama',\n",
       " 4: 'Coquimbo',\n",
       " 5: 'Valparaíso',\n",
       " 13: 'Metropolitana',\n",
       " 6: 'O’Higgins',\n",
       " 7: 'Maule',\n",
       " 16: 'Ñuble',\n",
       " 8: 'Biobío',\n",
       " 9: 'Araucanía',\n",
       " 14: 'Los Ríos',\n",
       " 10: 'Los Lagos',\n",
       " 11: 'Aysén',\n",
       " 12: 'Magallanes'}"
      ]
     },
     "execution_count": 8,
     "metadata": {},
     "output_type": "execute_result"
    }
   ],
   "source": [
    "{x:y for y,x in zip(confirmados_df.Region.unique(), confirmados_df['Codigo region'].unique())}"
   ]
  },
  {
   "cell_type": "code",
   "execution_count": 51,
   "metadata": {},
   "outputs": [],
   "source": [
    "with open(\"geojson/regiones.geojson\") as geojsonfile:\n",
    "    regiones = json.load(geojsonfile, encoding='utf-8')"
   ]
  },
  {
   "cell_type": "code",
   "execution_count": 52,
   "metadata": {},
   "outputs": [],
   "source": [
    "def centroid(geometry):\n",
    "    x = np.array(geometry[0])[:,0]\n",
    "    y = np.array(geometry[0])[:,1]\n",
    "    cen_x = sum(x)/len(x)\n",
    "    cen_y = sum(y)/len(y)\n",
    "    if type(cen_x) ==np.dtype(np.float64):\n",
    "        return cen_x, cen_y\n",
    "    else:\n",
    "        return cen_x"
   ]
  },
  {
   "cell_type": "code",
   "execution_count": 58,
   "metadata": {},
   "outputs": [],
   "source": [
    "centroid_regiones ={}\n",
    "for feature in regiones['features']:\n",
    "    centroid_regiones[feature['properties']['region']] = centroid(feature['geometry']['coordinates'])\n",
    "    "
   ]
  },
  {
   "cell_type": "code",
   "execution_count": 59,
   "metadata": {},
   "outputs": [
    {
     "data": {
      "text/plain": [
       "{'AisÃ©n del General Carlos IbÃ¡Ã±ez del Campo': array([-75.50096893, -48.60930634]),\n",
       " 'Antofagasta': (-69.30046955072464, -23.513314398840592),\n",
       " 'AraucanÃ\\xada': (-72.21119059695653, -38.69860242717392),\n",
       " 'Arica y Parinacota': array([-70.28399658, -19.11595917]),\n",
       " 'Atacama': (-69.95640176646154, -27.569922168923075),\n",
       " 'BÃ\\xado-BÃ\\xado': (-72.56162326936172, -37.54021039914894),\n",
       " 'Coquimbo': (-70.81710363918369, -30.67727190142857),\n",
       " \"Libertador General Bernardo O'Higgins\": (-71.12630634967742,\n",
       "  -34.43829591870968),\n",
       " 'Los Lagos': array([-74.58486176, -43.63680649]),\n",
       " 'Los RÃ\\xados': (-72.43220677088233, -40.00901682235294),\n",
       " 'Magallanes y AntÃ¡rtica Chilena': array([-69.26139069, -55.20180511]),\n",
       " 'Maule': (-71.27427253750001, -35.588552379999996),\n",
       " 'Ã‘uble': (-71.90628936840001, -36.613470154400005),\n",
       " 'RegiÃ³n Metropolitana de Santiago': (-70.67288351031247, -33.61857366562501),\n",
       " 'TarapacÃ¡': (-69.38311566842106, -20.137420001842106),\n",
       " 'ValparaÃ\\xadso': (-71.12692737575001, -32.930289125250006)}"
      ]
     },
     "execution_count": 59,
     "metadata": {},
     "output_type": "execute_result"
    }
   ],
   "source": [
    "centroid_regiones"
   ]
  },
  {
   "cell_type": "code",
   "execution_count": null,
   "metadata": {},
   "outputs": [],
   "source": []
  }
 ],
 "metadata": {
  "kernelspec": {
   "display_name": "Python 3",
   "language": "python",
   "name": "python3"
  },
  "language_info": {
   "codemirror_mode": {
    "name": "ipython",
    "version": 3
   },
   "file_extension": ".py",
   "mimetype": "text/x-python",
   "name": "python",
   "nbconvert_exporter": "python",
   "pygments_lexer": "ipython3",
   "version": "3.7.4"
  }
 },
 "nbformat": 4,
 "nbformat_minor": 2
}
